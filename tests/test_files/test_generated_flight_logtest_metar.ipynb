{
 "cells": [
  {
   "cell_type": "markdown",
   "metadata": {},
   "source": [
    "<h1> <div style = \"font-size:50pt;text-align:center\">Automatic Flight Test Report</div></h1>\n",
    "<i><div style = \"font-size:25pt;text-align:center\">Flight No 2, 23/01/2019 </div></i>\n",
    "\n",
    "<img src=\"..\\images\\Logo.png\" width=\"50%\" alt=\"logo, To view images, place the images in a folder called images (all lower case).\">\n",
    "\n",
    "<div style = \"font-size:25pt;text-align:center\"> <i> Project description here.\n",
    "  </i>  </div>"
   ]
  },
  {
   "cell_type": "markdown",
   "metadata": {},
   "source": [
    "<i>Below is the Required code, please run this code to allow other code to function</i> "
   ]
  },
  {
   "cell_type": "code",
   "execution_count": null,
   "metadata": {},
   "outputs": [],
   "source": [
    "# GRAPH_DATA_IMPORT\n",
    "import sys\n",
    "import matplotlib.pyplot as plt\n",
    "# Creates a link to where the code is stored.\n",
    "sys.path.append(\"C:\\\\Users\\\\aw6g15\\\\University of Southampton\\\\Adrian Weishaeupl - Documents\\\\PhD\\\\2019\\\\AutoFLpy\\\\AutoFLpy\\\\tests\")\n",
    "from FLIGHT_LOG_CODE_VERSION import *\n",
    "# file_path of the flight data.\n",
    "flight_data_file_path = FLIGHT_DATA_FILE_PATH\n",
    "# Excel File name\n",
    "flight_data_file_name = FLIGHT_DATA_FILE_NAME\n",
    "# Arduino File name\n",
    "arduino_flight_data_name = ARDUINO_DATA_FILE_NAME\n",
    "# Arduino Data file path\n",
    "arduino_data_file_path = ARDUINO_DATA_FILE_PATH\n",
    "# Excell Sheets\n",
    "frame_list = flight_data(flight_data_file_path, flight_data_file_name)\n",
    "# A list containing the date first and then the flight number\n",
    "Date_and_flight_Number = date_and_flight_number(frame_list)\n",
    "# Retrieves arduino flight data\n",
    "arduino_micro_flight_data_frame = arduino_micro_frame(arduino_data_file_path, arduino_flight_data_name)\n",
    "# Appends audino frame to flight data from pixhawk\n",
    "frame_list.append(arduino_micro_flight_data_frame)\n",
    "# Sorts frames by time\n",
    "sorted_frames = flight_data_time_sorter(frame_list)\n",
    "# Creates a list of all the values.\n",
    "values_list = flight_data_and_axis(sorted_frames)"
   ]
  },
  {
   "cell_type": "markdown",
   "metadata": {},
   "source": [
    "# Table of Contents <a class=\"anchor\" id=\"Table-of-Contents\"></a>\n",
    "* [Summary](#Summary)\n",
    "* [METAR information](#METAR-Information) \n",
    "* [Checklist information](#Checklist-Information) \n",
    "* [Graphs](#Graphs) \n",
    "  * [GPS altitude and speed plotted against time](#GPS-Against-Time) \n",
    "  * [GPS latitude and longitude](#GPS-Lat-Long) \n",
    "  * [Control inputs plotted against time](#Control-Inputs) \n",
    "  * [Barometry data aginst time](#Barometry) \n",
    "  * [Flight attitude](#Attitude) \n",
    "  * [Flight computer vibration data](#vibration-data) \n",
    "  * [Arduino temprature data](#Arduino-temprature-data) \n",
    "  * [Arduino battery data](#Arduino-battery-data) "
   ]
  },
  {
   "cell_type": "markdown",
   "metadata": {},
   "source": [
    "<h1>Summary</h1><a class=\"anchor\" id=\"Summary\"></a>\n",
    "\n",
    "This is the flight log for Flight Number 2 on 23/01/2019."
   ]
  },
  {
   "cell_type": "markdown",
   "metadata": {},
   "source": [
    "# METAR REPLACER"
   ]
  },
  {
   "cell_type": "code",
   "execution_count": null,
   "metadata": {},
   "outputs": [],
   "source": [
    "# METAR REPLACER0\n",
    "\n",
    "metar_replacer(os.getcwd(), \"test_generated_flight_logtest_xlsx.ipynb\", \"EGHE\", \"2019\", \"1\", \"23\", \"1\", \"23\", \"9\", \"10\", \"0\", \"C:/Users/aw6g15/University of Southampton/Adrian Weishaeupl - Documents/PhD/2019/AutoFLpy/AutoFLpy/tests/test_files/\")"
   ]
  },
  {
   "cell_type": "markdown",
   "metadata": {},
   "source": [
    "<h2>Checklist Information</h2><a class=\"anchor\" id=\"Checklist-Information\"></a>\n",
    "\n",
    "The Initial Pre-Flight checklist was actioned. \n",
    "\n",
    "The Initial Pre-Flight was actioned by Adrian Weishaeupl starting at 2019-01-23 15:31:44 and ending at 2019-01-23 15:32:58. The notes recorded on this checklist were: <i>THIS IS A TEST.</i> The battery voltages of each battery are: <i>25.2.</i>\n",
    "\n",
    "The checklist version used was v0.1.\n"
   ]
  },
  {
   "cell_type": "markdown",
   "metadata": {},
   "source": [
    "<h1>Graphs</h1><a class=\"anchor\" id=\"Graphs\"></a>\n",
    "\n",
    "Below are the Graphs of the data recorded from the flight.\n",
    "\n"
   ]
  },
  {
   "cell_type": "markdown",
   "metadata": {},
   "source": [
    "<h2>GPS altitude and speed plotted against time</h2><a class=\"anchor\" id=\"GPS-Against-Time\"></a> "
   ]
  },
  {
   "cell_type": "code",
   "execution_count": null,
   "metadata": {},
   "outputs": [],
   "source": [
    "x_limits=[\"x_min\", \"x_max\"]\n",
    "y_limits_left=[\"y_min\", \"y_max\"]\n",
    "y_limits_right=[\"y_min\", \"y_max\"]\n",
    "legend_location=1\n",
    "multiaxis_graph_plotter([[\"y\", \"altitude\", \"gps\"]], [[\"y\", \"groundcourse\", \"gps\"], [\"x\", \"time\", \"gps\"]], values_list, x_limits, y_limits_left, y_limits_right, marker_list, legend_location)"
   ]
  },
  {
   "cell_type": "code",
   "execution_count": null,
   "metadata": {},
   "outputs": [],
   "source": [
    "x_limits=[\"x_min\", \"x_max\"]\n",
    "y_limits=[\"y_min\", \"y_max\"]\n",
    "graph_plotter([[\"y\", \"groundspeed\", \"gps\"], [\"x\", \"time\", \"gps\"]], values_list, x_limits, y_limits, marker_list)"
   ]
  },
  {
   "cell_type": "code",
   "execution_count": null,
   "metadata": {},
   "outputs": [],
   "source": [
    "x_limits=[\"x_min\", \"x_max\"]\n",
    "y_limits=[\"y_min\", \"y_max\"]\n",
    "graph_plotter([[\"y\", \"airspeed\", \"arsp\"], [\"x\", \"time\", \"arsp\"]], values_list, x_limits, y_limits, marker_list)"
   ]
  },
  {
   "cell_type": "markdown",
   "metadata": {},
   "source": [
    "<h2>GPS latitude and longitude</h2><a class=\"anchor\" id=\"GPS-Lat-Long\"></a> "
   ]
  },
  {
   "cell_type": "code",
   "execution_count": null,
   "metadata": {},
   "outputs": [],
   "source": [
    "x_limits=[\"x_min\", \"x_max\"]\n",
    "y_limits=[\"y_min\", \"y_max\"]\n",
    "graph_plotter([[\"x\", \"latitude\", \"gps\"], [\"y\", \"longitude\", \"gps\"]], values_list, x_limits, y_limits, marker_list)"
   ]
  },
  {
   "cell_type": "markdown",
   "metadata": {},
   "source": [
    "<h2>Control inputs plotted against time</h2><a class=\"anchor\" id=\"Control-Inputs\"></a> "
   ]
  },
  {
   "cell_type": "code",
   "execution_count": null,
   "metadata": {},
   "outputs": [],
   "source": [
    "x_limits=[\"x_min\", \"x_max\"]\n",
    "y_limits=[\"y_min\", \"y_max\"]\n",
    "graph_plotter([[\"x\", \"time\", \"rcin\"], [\"y\", \"flap ch5\", \"rcin\"], [\"y\", \"subdeploy ch6\", \"rcin\"]], values_list, x_limits, y_limits, marker_list)"
   ]
  },
  {
   "cell_type": "code",
   "execution_count": null,
   "metadata": {},
   "outputs": [],
   "source": [
    "x_limits=[\"x_min\", \"x_max\"]\n",
    "y_limits=[\"y_min\", \"y_max\"]\n",
    "graph_plotter([[\"x\", \"time\", \"rcin\"], [\"y\", \"throttle ch3\", \"rcin\"]], values_list, x_limits, y_limits, marker_list)"
   ]
  },
  {
   "cell_type": "code",
   "execution_count": null,
   "metadata": {},
   "outputs": [],
   "source": [
    "x_limits=[\"x_min\", \"x_max\"]\n",
    "y_limits=[\"y_min\", \"y_max\"]\n",
    "graph_plotter([[\"x\", \"time\", \"rcin\"], [\"y\", \"aileron ch1\", \"rcin\"], [\"y\", \"elevator ch2\", \"rcin\"], [\"y\", \"rudder ch3\", \"rcin\"]], values_list, x_limits, y_limits, marker_list)"
   ]
  },
  {
   "cell_type": "markdown",
   "metadata": {},
   "source": [
    "<h2>Barometry data aginst time</h2><a class=\"anchor\" id=\"Barometry\"></a> "
   ]
  },
  {
   "cell_type": "code",
   "execution_count": null,
   "metadata": {},
   "outputs": [],
   "source": [
    "x_limits=[\"x_min\", \"x_max\"]\n",
    "y_limits_left=[\"y_min\", \"y_max\"]\n",
    "y_limits_right=[\"y_min\", \"y_max\"]\n",
    "legend_location=1\n",
    "multiaxis_graph_plotter([[\"y\", \"altitude\", \"baro\"], [\"x\", \"time\", \"baro\"]], [[\"y\", \"pressure\", \"baro\"], [\"x\", \"time\", \"baro\"]], values_list, x_limits, y_limits_left, y_limits_right, marker_list, legend_location)"
   ]
  },
  {
   "cell_type": "code",
   "execution_count": null,
   "metadata": {},
   "outputs": [],
   "source": [
    "x_limits=[\"x_min\", \"x_max\"]\n",
    "y_limits=[\"y_min\", \"y_max\"]\n",
    "graph_plotter([[\"y\", \"temperature\", \"baro\"], [\"x\", \"time\", \"baro\"]], values_list, x_limits, y_limits, marker_list)"
   ]
  },
  {
   "cell_type": "markdown",
   "metadata": {},
   "source": [
    "<h2>Flight attitude</h2><a class=\"anchor\" id=\"Attitude\"></a> "
   ]
  },
  {
   "cell_type": "code",
   "execution_count": null,
   "metadata": {},
   "outputs": [],
   "source": [
    "x_limits=[\"x_min\", \"x_max\"]\n",
    "y_limits=[\"y_min\", \"y_max\"]\n",
    "graph_plotter([[\"y\", \"pitch\", \"ctun\"], [\"x\", \"time\", \"ctun\"]], values_list, x_limits, y_limits, marker_list)"
   ]
  },
  {
   "cell_type": "code",
   "execution_count": null,
   "metadata": {},
   "outputs": [],
   "source": [
    "x_limits=[\"x_min\", \"x_max\"]\n",
    "y_limits=[\"y_min\", \"y_max\"]\n",
    "graph_plotter([[\"y\", \"roll\", \"ctun\"], [\"x\", \"time\", \"ctun\"]], values_list, x_limits, y_limits, marker_list)"
   ]
  },
  {
   "cell_type": "code",
   "execution_count": null,
   "metadata": {},
   "outputs": [],
   "source": [
    "x_limits=[\"x_min\", \"x_max\"]\n",
    "y_limits=[\"y_min\", \"y_max\"]\n",
    "graph_plotter([[\"y\", \"aoa\", \"aoa\"], [\"x\", \"time\", \"aoa\"]], values_list, x_limits, y_limits, marker_list)"
   ]
  },
  {
   "cell_type": "code",
   "execution_count": null,
   "metadata": {},
   "outputs": [],
   "source": [
    "x_limits=[\"x_min\", \"x_max\"]\n",
    "y_limits=[\"y_min\", \"y_max\"]\n",
    "graph_plotter([[\"y\", \"ssa\", \"aoa\"], [\"x\", \"time\", \"aoa\"]], values_list, x_limits, y_limits, marker_list)"
   ]
  },
  {
   "cell_type": "markdown",
   "metadata": {},
   "source": [
    "<h2>Flight computer vibration data</h2><a class=\"anchor\" id=\"vibration-data\"></a> "
   ]
  },
  {
   "cell_type": "code",
   "execution_count": null,
   "metadata": {},
   "outputs": [],
   "source": [
    "x_limits=[\"x_min\", \"x_max\"]\n",
    "y_limits=[\"y_min\", \"y_max\"]\n",
    "graph_plotter([[\"x\", \"time\", \"vibe\"], [\"y\", \"vibex\", \"vibe\"], [\"y\", \"vibey\", \"vibe\"], [\"y\", \"vibez\", \"vibe\"]], values_list, x_limits, y_limits, marker_list)"
   ]
  },
  {
   "cell_type": "markdown",
   "metadata": {},
   "source": [
    "<h2>Arduino temprature data</h2><a class=\"anchor\" id=\"Arduino-temprature-data\"></a> "
   ]
  },
  {
   "cell_type": "code",
   "execution_count": null,
   "metadata": {},
   "outputs": [],
   "source": [
    "x_limits=[\"x_min\", \"x_max\"]\n",
    "y_limits=[\"y_min\", \"y_max\"]\n",
    "graph_plotter([[\"x\", \"time\", \"arduinomicro\"], [\"y\", \"temp0\", \"arduinomicro\"], [\"y\", \"temp1\", \"arduinomicro\"], [\"y\", \"temp2\", \"arduinomicro\"], [\"y\", \"temp3\", \"arduinomicro\"], [\"y\", \"temp4\", \"arduinomicro\"], [\"y\", \"temp5\", \"arduinomicro\"]], values_list, x_limits, y_limits, marker_list)"
   ]
  },
  {
   "cell_type": "markdown",
   "metadata": {},
   "source": [
    "<h2>Arduino battery data</h2><a class=\"anchor\" id=\"Arduino-battery-data\"></a> "
   ]
  },
  {
   "cell_type": "code",
   "execution_count": null,
   "metadata": {},
   "outputs": [],
   "source": [
    "x_limits=[\"x_min\", \"x_max\"]\n",
    "y_limits_left=[\"y_min\", \"y_max\"]\n",
    "y_limits_right=[\"y_min\", \"y_max\"]\n",
    "legend_location=1\n",
    "multiaxis_graph_plotter([[\"y\", \"battvoltage\", \"arduinomicro\"], [\"x\", \"time\", \"arduinomicro\"]], [[\"y\", \"battcharging\", \"arduinomicro\"], [\"x\", \"time\", \"arduinomicro\"]], values_list, x_limits, y_limits_left, y_limits_right, marker_list, legend_location)"
   ]
  },
  {
   "cell_type": "code",
   "execution_count": null,
   "metadata": {},
   "outputs": [],
   "source": []
  }
 ],
 "metadata": {
  "kernelspec": {
   "display_name": "Python 3",
   "language": "python",
   "name": "python3"
  },
  "language_info": {
   "codemirror_mode": {
    "name": "ipython",
    "version": 3
   },
   "file_extension": ".py",
   "mimetype": "text/x-python",
   "name": "python",
   "nbconvert_exporter": "python",
   "pygments_lexer": "ipython3",
   "version": "3.7.3"
  }
 },
 "nbformat": 4,
 "nbformat_minor": 2
}
