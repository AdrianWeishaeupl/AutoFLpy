{
 "cells": [
  {
   "cell_type": "markdown",
   "metadata": {},
   "source": [
    "<h1> <div style = \"font-size:50pt;text-align:center\">Automatic Flight Test Report</div></h1>\n",
    "<i><div style = \"font-size:25pt;text-align:center\">Flight No FLIGHT_NUMBER, FLIGHT_DATE </div></i>\n",
    "\n",
    "<img src=\"..\\images\\Logo.png\" width=\"50%\" alt=\"logo, To view images, place the images in a folder called images (all lower case).\">\n",
    "\n",
    "<div style = \"font-size:25pt;text-align:center\"> <i> Project description here.\n",
    "  </i>  </div>"
   ]
  },
  {
   "cell_type": "markdown",
   "metadata": {},
   "source": [
    "<i>Below is the Required code, please run this code to allow other code to function</i> GRAPH_TEXT"
   ]
  },
  {
   "cell_type": "code",
   "execution_count": null,
   "metadata": {},
   "outputs": [],
   "source": [
    "# GRAPH_DATA_IMPORT\n",
    "import sys\n",
    "import matplotlib.pyplot as plt\n",
    "# Creates a link to where the code is stored.\n",
    "sys.path.append(PYTHON_FILE_PATH)\n",
    "from FLIGHT_LOG_CODE_VERSION import *\n",
    "# file_path of the flight data.\n",
    "flight_data_file_path = FLIGHT_DATA_FILE_PATH\n",
    "# Excel File name\n",
    "flight_data_file_name = FLIGHT_DATA_FILE_NAME\n",
    "# Arduino File name\n",
    "arduino_flight_data_name = ARDUINO_DATA_FILE_NAME\n",
    "# Arduino Data file path\n",
    "arduino_data_file_path = ARDUINO_DATA_FILE_PATH\n",
    "# Excell Sheets\n",
    "frame_list = flight_data(flight_data_file_path, flight_data_file_name)\n",
    "# A list containing the date first and then the flight number\n",
    "Date_and_flight_Number = date_and_flight_number(frame_list)\n",
    "# Retrieves arduino flight data\n",
    "arduino_micro_flight_data_frame = arduino_micro_frame(arduino_data_file_path, arduino_flight_data_name)\n",
    "# Appends audino frame to flight data from pixhawk\n",
    "frame_list.append(arduino_micro_flight_data_frame)\n",
    "# Sorts frames by time\n",
    "sorted_frames = flight_data_time_sorter(frame_list)\n",
    "# Creates a list of all the values.\n",
    "values_list = flight_data_and_axis(sorted_frames)"
   ]
  },
  {
   "cell_type": "markdown",
   "metadata": {},
   "source": [
    "# Table of Contents <a class=\"anchor\" id=\"Table-of-Contents\"></a>\n",
    "* [Summary](#Summary)\n",
    "* [METAR information](#METAR-Information) METAR_LINE\n",
    "* [Checklist information](#Checklist-Information) CHECKLIST_LINE\n",
    "* [Graphs](#Graphs) GRAPH_LINE\n",
    "  * [GPS altitude and speed plotted against time](#GPS-Against-Time) GRAPH_LINE\n",
    "  * [GPS latitude and longitude](#GPS-Lat-Long) GRAPH_LINE\n",
    "  * [Control inputs plotted against time](#Control-Inputs) GRAPH_LINE\n",
    "  * [Barometry data aginst time](#Barometry) GRAPH_LINE\n",
    "  * [Flight attitude](#Attitude) GRAPH_LINE\n",
    "  * [Flight computer vibration data](#vibration-data) GRAPH_LINE\n",
    "  * [Arduino temprature data](#Arduino-temprature-data) GRAPH_LINE\n",
    "  * [Arduino battery data](#Arduino-battery-data) GRAPH_LINE"
   ]
  },
  {
   "cell_type": "markdown",
   "metadata": {},
   "source": [
    "<h1>Summary</h1><a class=\"anchor\" id=\"Summary\"></a>\n",
    "\n",
    "This is the flight log for Flight Number FLIGHT_NUMBER on FLIGHT_DATE."
   ]
  },
  {
   "cell_type": "markdown",
   "metadata": {},
   "source": [
    "# METAR REPLACER"
   ]
  },
  {
   "cell_type": "markdown",
   "metadata": {},
   "source": [
    "METAR_INFORMATION"
   ]
  },
  {
   "cell_type": "markdown",
   "metadata": {},
   "source": [
    "CHECKLIST_INFORMATION"
   ]
  },
  {
   "cell_type": "markdown",
   "metadata": {},
   "source": [
    "<h1>Graphs</h1><a class=\"anchor\" id=\"Graphs\"></a>\n",
    "\n",
    "Below are the Graphs of the data recorded from the flight.\n",
    "\n",
    "GRAPH_TEXT"
   ]
  },
  {
   "cell_type": "markdown",
   "metadata": {},
   "source": [
    "<h2>GPS altitude and speed plotted against time</h2><a class=\"anchor\" id=\"GPS-Against-Time\"></a> GRAPH_TEXT"
   ]
  },
  {
   "cell_type": "markdown",
   "metadata": {},
   "source": [
    "MULTIAXIS_GRAPH\n",
    "\n",
    "LEFT_AXIS\n",
    "\n",
    "Y ALTITUDE GPS\n",
    "\n",
    "RIGHT_AXIS\n",
    "\n",
    "Y GROUNDCOURSE GPS\n",
    "\n",
    "X TIME GPS"
   ]
  },
  {
   "cell_type": "markdown",
   "metadata": {},
   "source": [
    "GRAPH\n",
    "\n",
    "Y GROUNDSPEED GPS\n",
    "\n",
    "X TIME GPS"
   ]
  },
  {
   "cell_type": "markdown",
   "metadata": {},
   "source": [
    "GRAPH\n",
    "\n",
    "Y AIRSPEED ARSP\n",
    "\n",
    "X TIME ARSP"
   ]
  },
  {
   "cell_type": "markdown",
   "metadata": {},
   "source": [
    "<h2>GPS latitude and longitude</h2><a class=\"anchor\" id=\"GPS-Lat-Long\"></a> GRAPH_TEXT"
   ]
  },
  {
   "cell_type": "markdown",
   "metadata": {},
   "source": [
    "GRAPH\n",
    "\n",
    "X LATITUDE GPS\n",
    "\n",
    "Y LONGITUDE GPS"
   ]
  },
  {
   "cell_type": "markdown",
   "metadata": {},
   "source": [
    "<h2>Control inputs plotted against time</h2><a class=\"anchor\" id=\"Control-Inputs\"></a> GRAPH_TEXT"
   ]
  },
  {
   "cell_type": "markdown",
   "metadata": {},
   "source": [
    "GRAPH\n",
    "\n",
    "X TIME RCIN\n",
    "\n",
    "Y FLAP_CH5 RCIN\n",
    "\n",
    "Y SUBDEPLOY_CH6 RCIN"
   ]
  },
  {
   "cell_type": "markdown",
   "metadata": {},
   "source": [
    "GRAPH\n",
    "\n",
    "X TIME RCIN\n",
    "\n",
    "Y THROTTLE_CH3 RCIN"
   ]
  },
  {
   "cell_type": "markdown",
   "metadata": {},
   "source": [
    "GRAPH\n",
    "\n",
    "X TIME RCIN\n",
    "\n",
    "Y AILERON_CH1 RCIN\n",
    "\n",
    "Y ELEVATOR_CH2 RCIN\n",
    "\n",
    "Y RUDDER_CH3 RCIN"
   ]
  },
  {
   "cell_type": "markdown",
   "metadata": {},
   "source": [
    "<h2>Barometry data aginst time</h2><a class=\"anchor\" id=\"Barometry\"></a> GRAPH_TEXT"
   ]
  },
  {
   "cell_type": "markdown",
   "metadata": {},
   "source": [
    "MULTIAXIS_GRAPH\n",
    "\n",
    "LEFT_AXIS\n",
    "\n",
    "Y ALTITUDE BARO\n",
    "\n",
    "X TIME BARO\n",
    "\n",
    "RIGHT_AXIS\n",
    "\n",
    "Y PRESSURE BARO\n",
    "\n",
    "X TIME BARO"
   ]
  },
  {
   "cell_type": "markdown",
   "metadata": {},
   "source": [
    "GRAPH\n",
    "\n",
    "Y TEMPERATURE BARO\n",
    "\n",
    "X TIME BARO"
   ]
  },
  {
   "cell_type": "markdown",
   "metadata": {},
   "source": [
    "<h2>Flight attitude</h2><a class=\"anchor\" id=\"Attitude\"></a> GRAPH_TEXT"
   ]
  },
  {
   "cell_type": "markdown",
   "metadata": {},
   "source": [
    "GRAPH\n",
    "\n",
    "Y PITCH CTUN\n",
    "\n",
    "X TIME CTUN"
   ]
  },
  {
   "cell_type": "markdown",
   "metadata": {},
   "source": [
    "GRAPH\n",
    "\n",
    "Y ROLL CTUN\n",
    "\n",
    "X TIME CTUN"
   ]
  },
  {
   "cell_type": "markdown",
   "metadata": {},
   "source": [
    "GRAPH\n",
    "\n",
    "Y AOA AOA\n",
    "\n",
    "X TIME AOA"
   ]
  },
  {
   "cell_type": "markdown",
   "metadata": {},
   "source": [
    "GRAPH\n",
    "\n",
    "Y SSA AOA\n",
    "\n",
    "X TIME AOA"
   ]
  },
  {
   "cell_type": "markdown",
   "metadata": {},
   "source": [
    "<h2>Flight computer vibration data</h2><a class=\"anchor\" id=\"vibration-data\"></a> GRAPH_TEXT"
   ]
  },
  {
   "cell_type": "markdown",
   "metadata": {},
   "source": [
    "GRAPH\n",
    "\n",
    "X TIME VIBE\n",
    "\n",
    "Y VIBEX VIBE\n",
    "\n",
    "Y VIBEY VIBE\n",
    "\n",
    "Y VIBEZ VIBE"
   ]
  },
  {
   "cell_type": "markdown",
   "metadata": {},
   "source": [
    "<h2>Arduino temprature data</h2><a class=\"anchor\" id=\"Arduino-temprature-data\"></a> GRAPH_TEXT"
   ]
  },
  {
   "cell_type": "markdown",
   "metadata": {},
   "source": [
    "GRAPH\n",
    "\n",
    "X TIME ARDUINOMICRO\n",
    "\n",
    "Y TEMP0 ARDUINOMICRO\n",
    "\n",
    "Y TEMP1 ARDUINOMICRO\n",
    "\n",
    "Y TEMP2 ARDUINOMICRO\n",
    "\n",
    "Y TEMP3 ARDUINOMICRO\n",
    "\n",
    "Y TEMP4 ARDUINOMICRO\n",
    "\n",
    "Y TEMP5 ARDUINOMICRO"
   ]
  },
  {
   "cell_type": "markdown",
   "metadata": {},
   "source": [
    "<h2>Arduino battery data</h2><a class=\"anchor\" id=\"Arduino-battery-data\"></a> GRAPH_TEXT"
   ]
  },
  {
   "cell_type": "markdown",
   "metadata": {},
   "source": [
    "MULTIAXIS_GRAPH\n",
    "\n",
    "LEFT_AXIS\n",
    "\n",
    "Y BATTVOLTAGE ARDUINOMICRO\n",
    "\n",
    "X TIME ARDUINOMICRO\n",
    "\n",
    "RIGHT_AXIS\n",
    "\n",
    "Y BATTCHARGING ARDUINOMICRO\n",
    "\n",
    "X TIME ARDUINOMICRO"
   ]
  },
  {
   "cell_type": "code",
   "execution_count": null,
   "metadata": {},
   "outputs": [],
   "source": []
  }
 ],
 "metadata": {
  "kernelspec": {
   "display_name": "Python 3",
   "language": "python",
   "name": "python3"
  },
  "language_info": {
   "codemirror_mode": {
    "name": "ipython",
    "version": 3
   },
   "file_extension": ".py",
   "mimetype": "text/x-python",
   "name": "python",
   "nbconvert_exporter": "python",
   "pygments_lexer": "ipython3",
   "version": "3.7.3"
  }
 },
 "nbformat": 4,
 "nbformat_minor": 2
}
