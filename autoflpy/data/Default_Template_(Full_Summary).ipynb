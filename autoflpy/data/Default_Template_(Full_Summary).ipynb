{
 "cells": [
  {
   "cell_type": "raw",
   "metadata": {},
   "source": [
    "<script>\n",
    "<!-- \n",
    "    source:\n",
    "    http://chris-said.io/2016/02/13/how-to-make-polished-jupyter-presentations-with-optional-code-visibility/\n",
    "  -->\n",
    "  function code_toggle() {\n",
    "    if (code_shown){\n",
    "      $('div.input').hide('500');\n",
    "      $('#toggleButton').val('Show Code')\n",
    "    } else {\n",
    "      $('div.input').show('500');\n",
    "      $('#toggleButton').val('Hide Code')\n",
    "    }\n",
    "    code_shown = !code_shown\n",
    "  }\n",
    "\n",
    "  $( document ).ready(function(){\n",
    "    code_shown=false;\n",
    "    $('div.input').hide()\n",
    "  });\n",
    "</script>\n",
    "<form action=\"javascript:code_toggle()\"><input type=\"submit\" id=\"toggleButton\" value=\"Show Code\"></form>"
   ]
  },
  {
   "cell_type": "markdown",
   "metadata": {},
   "source": [
    "<h1> <div style = \"font-size:28pt;text-align:center\">Automatic Flight Test Report</div></h1>"
   ]
  },
  {
   "cell_type": "code",
   "execution_count": null,
   "metadata": {},
   "outputs": [],
   "source": [
    "import matplotlib.pyplot as plt\n",
    "# Insert your logo into the generated images folder and re-write the directory below with your image name.\n",
    "# This cell might need to be run twice to successfully load the image.\n",
    "image = plt.imread(\"..\\images\\Your_logo_file_name_here.png\")\n",
    "_ = plt.figure(figsize=(20,8))\n",
    "img = plt.imshow(image)\n",
    "_ = plt.axis('off')"
   ]
  },
  {
   "cell_type": "markdown",
   "metadata": {},
   "source": [
    "<i><div style = \"font-size:14pt;text-align:center\">Flight No FLIGHT_NUMBER, FLIGHT_DATE </div></i>\n",
    "\n",
    "<br />\n",
    "\n",
    "<div style = \"font-size:14pt;text-align:center\"> <i> Project description here.\n",
    "  </i>  </div>"
   ]
  },
  {
   "cell_type": "markdown",
   "metadata": {},
   "source": [
    "<i>Below is the Required code, please run this code to allow other code to function</i> GRAPH_TEXT"
   ]
  },
  {
   "cell_type": "code",
   "execution_count": null,
   "metadata": {},
   "outputs": [],
   "source": [
    "# GRAPH_DATA_IMPORT\n",
    "import sys\n",
    "import pickle as pk\n",
    "import warnings\n",
    "\n",
    "# Hides warnings\n",
    "warnings.filterwarnings('ignore')\n",
    "\n",
    "# Creates a link to where the code is stored.\n",
    "sys.path.append(PYTHON_FILE_PATH)\n",
    "from autoflpy.util.plotting import *\n",
    "from autoflpy.util.metar_processing import *\n",
    "#Path to the compressed data.\n",
    "data_file_path = COMPRESSED_DATA_FILE_PATH\n",
    "# Uncompressing the data.\n",
    "values_list = pk.load(open(data_file_path, \"rb\"))\n",
    "print(\"Data imported\")"
   ]
  },
  {
   "cell_type": "markdown",
   "metadata": {},
   "source": [
    "# Table of Contents <a class=\"anchor\" id=\"Table-of-Contents\"></a>\n",
    "* [Weather information](#Weather-Information) WEATHER_LINE\n",
    "* [METAR information](#METAR-Information) METAR_LINE\n",
    "* [Runway information](#Runway-Information) RUNWAY_LINE\n",
    "* [Checklist information](#Checklist-Information) CHECKLIST_LINE\n",
    "* [Graphs](#Graphs) GRAPH_LINE\n",
    "  * [GNSS altitude, signal strength and speed plotted against time](#GNSS-Against-Time) GRAPH_LINE\n",
    "  * [GNSS latitude and longitude](#GNSS-Lat-Long) GRAPH_LINE\n",
    "  * [Flight computer battery voltage and current](#BAT-volt-cur) GRAPH_LINE\n",
    "  * [Control inputs plotted against time](#Control-Inputs) GRAPH_LINE\n",
    "  * [Air data aginst time](#Air) GRAPH_LINE\n",
    "  * [Flight attitude](#Attitude) GRAPH_LINE\n",
    "  * [Flight computer vibration data](#vibration-data) GRAPH_LINE\n",
    "  * [Arduino temprature data](#Arduino-temprature-data) GRAPH_LINE\n",
    "  * [Arduino battery data](#Arduino-battery-data) GRAPH_LINE\n",
    "  * [Autopilot data](#Autopilot-data) GRAPH_LINE\n",
    "  * [Take-off data](#Take-off-data) GRAPH_LINE"
   ]
  },
  {
   "cell_type": "markdown",
   "metadata": {},
   "source": [
    "WEATHER_INFORMATION"
   ]
  },
  {
   "cell_type": "markdown",
   "metadata": {},
   "source": [
    "METAR_INFORMATION"
   ]
  },
  {
   "cell_type": "markdown",
   "metadata": {},
   "source": [
    "RUNWAY_INFORMATION"
   ]
  },
  {
   "cell_type": "markdown",
   "metadata": {},
   "source": [
    "CHECKLIST_INFORMATION"
   ]
  },
  {
   "cell_type": "markdown",
   "metadata": {},
   "source": [
    "<h1>Graphs</h1><a class=\"anchor\" id=\"Graphs\"></a>\n",
    "\n",
    "Below are the Graphs of the data recorded from the flight. For more information on how to manipulate these graphs and customise them, please visit https://autoflpy.readthedocs.io/en/latest/examples.html.\n",
    "\n",
    "GRAPH_TEXT"
   ]
  },
  {
   "cell_type": "code",
   "execution_count": null,
   "metadata": {},
   "outputs": [],
   "source": [
    "marker_list = []"
   ]
  },
  {
   "cell_type": "markdown",
   "metadata": {},
   "source": [
    "<h2>GNSS altitude, signal strength and speed plotted against time</h2><a class=\"anchor\" id=\"GNSS-Against-Time\"></a> GRAPH_TEXT"
   ]
  },
  {
   "cell_type": "markdown",
   "metadata": {},
   "source": [
    "GRAPH\n",
    "\n",
    "Y ALTITUDE GPS\n",
    "\n",
    "X TIME GPS"
   ]
  },
  {
   "cell_type": "markdown",
   "metadata": {},
   "source": [
    "Altitude - from the GPS data set. This is an altitude above ground level and is using the GNSS."
   ]
  },
  {
   "cell_type": "markdown",
   "metadata": {},
   "source": [
    "MULTIAXIS_GRAPH\n",
    "\n",
    "LEFT_AXIS\n",
    "\n",
    "Y HDOP GPS\n",
    "\n",
    "RIGHT_AXIS\n",
    "\n",
    "Y NUMBER_OF_SATELLITES GPS\n",
    "\n",
    "X TIME GPS"
   ]
  },
  {
   "cell_type": "markdown",
   "metadata": {},
   "source": [
    "HDop - horizontal dilution of precision. HDop is a factor in determining the relative accuracy of a horizontal position. The smaller the HDop number, the better the data accuracy.\n",
    "\n",
    "Number of Satellites - The number of satellites whose signal is being received. The type of satellite network being used depends on you sensor."
   ]
  },
  {
   "cell_type": "markdown",
   "metadata": {},
   "source": [
    "MULTIAXIS_GRAPH\n",
    "\n",
    "LEFT_AXIS\n",
    "\n",
    "Y AIRSPEED ARSP\n",
    "\n",
    "X TIME ARSP\n",
    "\n",
    "RIGHT_AXIS\n",
    "\n",
    "Y GROUNDSPEED GPS\n",
    "\n",
    "X TIME GPS"
   ]
  },
  {
   "cell_type": "markdown",
   "metadata": {},
   "source": [
    "Airspeed - the type of airspeed (IAS, TAS, CAS, EAS) depends on the sensor you are using.\n",
    "\n",
    "Groundspeed - from the GPS data set. This is the speed travelled along the ground and is derived from GNSS measurements."
   ]
  },
  {
   "cell_type": "markdown",
   "metadata": {},
   "source": [
    "<h2>GNSS latitude and longitude</h2><a class=\"anchor\" id=\"GNSS-Lat-Long\"></a> GRAPH_TEXT"
   ]
  },
  {
   "cell_type": "markdown",
   "metadata": {},
   "source": [
    "GRAPH\n",
    "\n",
    "Y LATITUDE GPS\n",
    "\n",
    "X LONGITUDE GPS"
   ]
  },
  {
   "cell_type": "markdown",
   "metadata": {},
   "source": [
    "Position data  - from the GPS data set.\n",
    "\n",
    "This is a completely fictitious, illustrative virtual flight and this example should in no way be seen as a suggestion of the suitability of the location for flight operations. All flights in UK airspace should be conducted in the framework set out by the Civil Aviation Authority."
   ]
  },
  {
   "cell_type": "markdown",
   "metadata": {},
   "source": [
    "<h2>Flight computer battery voltage and current</h2><a class=\"anchor\" id=\"BAT-volt-cur\"></a> GRAPH_TEXT"
   ]
  },
  {
   "cell_type": "markdown",
   "metadata": {},
   "source": [
    "MULTIAXIS_GRAPH\n",
    "\n",
    "RIGHT_AXIS\n",
    "\n",
    "Y VOLTAGE BAT\n",
    "\n",
    "X TIME BAT\n",
    "\n",
    "LEFT_AXIS\n",
    "\n",
    "Y CURRENT BAT\n",
    "\n",
    "X TIME BAT"
   ]
  },
  {
   "cell_type": "markdown",
   "metadata": {},
   "source": [
    "Battery voltage - as read by the power sensor.\n",
    "\n",
    "Current - as read by the power sensor."
   ]
  },
  {
   "cell_type": "markdown",
   "metadata": {},
   "source": [
    "MULTIAXIS_GRAPH\n",
    "\n",
    "RIGHT_AXIS\n",
    "\n",
    "Y THROTTLE_CH3 RCOU\n",
    "\n",
    "X TIME RCOU\n",
    "\n",
    "LEFT_AXIS\n",
    "\n",
    "Y CURRENT BAT\n",
    "\n",
    "X TIME BAT"
   ]
  },
  {
   "cell_type": "markdown",
   "metadata": {},
   "source": [
    "<h2>Control outputs plotted against time</h2><a class=\"anchor\" id=\"Control-Inputs\"></a> GRAPH_TEXT"
   ]
  },
  {
   "cell_type": "markdown",
   "metadata": {},
   "source": [
    "The following variables are represented in micro seconds (us). This is a Pulse Width Modulation (PWM) signal which is a way of representing an analogue signal digitally. It is used in many applications such as servo motors.\n",
    "\n",
    "NOTE: Channels may not be mapped in the same way as done here. To change the channel mapping and names, access the Name_converter_list.txt file and change the following names.\n",
    "\n",
    "Example:\n",
    "\n",
    "    RCOU, C5, flap_CH5, us\n",
    "to\n",
    "\n",
    "    RCOU, C5, throttle_CH5, us"
   ]
  },
  {
   "cell_type": "markdown",
   "metadata": {},
   "source": [
    "GRAPH\n",
    "\n",
    "X TIME RCOU\n",
    "\n",
    "Y FLAP_CH5 RCOU\n",
    "\n",
    "Y CH6 RCOU"
   ]
  },
  {
   "cell_type": "markdown",
   "metadata": {},
   "source": [
    "GRAPH\n",
    "\n",
    "X TIME RCOU\n",
    "\n",
    "Y THROTTLE_CH3 RCOU"
   ]
  },
  {
   "cell_type": "markdown",
   "metadata": {},
   "source": [
    "GRAPH\n",
    "\n",
    "X TIME RCOU\n",
    "\n",
    "Y AILERON_CH1 RCOU\n",
    "\n",
    "Y ELEVATOR_CH2 RCOU\n",
    "\n",
    "Y RUDDER_CH3 RCOU"
   ]
  },
  {
   "cell_type": "markdown",
   "metadata": {},
   "source": [
    "<h2>Air data against time</h2><a class=\"anchor\" id=\"Air\"></a> GRAPH_TEXT"
   ]
  },
  {
   "cell_type": "markdown",
   "metadata": {},
   "source": [
    "MULTIAXIS_GRAPH\n",
    "\n",
    "RIGHT_AXIS\n",
    "\n",
    "Y ALTITUDE BARO\n",
    "\n",
    "X TIME BARO\n",
    "\n",
    "LEFT_AXIS\n",
    "\n",
    "Y AIRSPEED ARSP\n",
    "\n",
    "X TIME ARSP"
   ]
  },
  {
   "cell_type": "markdown",
   "metadata": {},
   "source": [
    "Altitude - from the barometer data set. This is the altitude derived from the air pressure and is relative to the arming altitude.\n",
    "\n",
    "Airspeed - the type of airspeed (IAS, TAS, CAS, EAS) depends on the sensor you are using."
   ]
  },
  {
   "cell_type": "markdown",
   "metadata": {},
   "source": [
    "GRAPH\n",
    "\n",
    "Y TEMP ARSP\n",
    "\n",
    "X TIME ARSP"
   ]
  },
  {
   "cell_type": "markdown",
   "metadata": {},
   "source": [
    "Temperature - measured by the airspeed sensor."
   ]
  },
  {
   "cell_type": "markdown",
   "metadata": {},
   "source": [
    "<h2>Flight attitude</h2><a class=\"anchor\" id=\"Attitude\"></a> GRAPH_TEXT"
   ]
  },
  {
   "cell_type": "markdown",
   "metadata": {},
   "source": [
    "GRAPH\n",
    "\n",
    "Y PITCH CTUN\n",
    "\n",
    "X TIME CTUN"
   ]
  },
  {
   "cell_type": "markdown",
   "metadata": {},
   "source": [
    "GRAPH\n",
    "\n",
    "Y ROLL CTUN\n",
    "\n",
    "X TIME CTUN"
   ]
  },
  {
   "cell_type": "markdown",
   "metadata": {},
   "source": [
    "GRAPH\n",
    "\n",
    "Y AOA AOA\n",
    "\n",
    "X TIME AOA"
   ]
  },
  {
   "cell_type": "markdown",
   "metadata": {},
   "source": [
    "AOA - Angle Of Attack. This is the angle between the incoming air and the aircraft's horizontal plane. It is a calculated measurement."
   ]
  },
  {
   "cell_type": "markdown",
   "metadata": {},
   "source": [
    "GRAPH\n",
    "\n",
    "Y SSA AOA\n",
    "\n",
    "X TIME AOA"
   ]
  },
  {
   "cell_type": "markdown",
   "metadata": {},
   "source": [
    "SSA - Side Slip Angle. The angle between the incoming air and the aircraft's vertical plane. It is a calculated measurement."
   ]
  },
  {
   "cell_type": "markdown",
   "metadata": {},
   "source": [
    "<h2>Flight computer vibration data</h2><a class=\"anchor\" id=\"vibration-data\"></a> GRAPH_TEXT"
   ]
  },
  {
   "cell_type": "markdown",
   "metadata": {},
   "source": [
    "GRAPH\n",
    "\n",
    "X TIME VIBE\n",
    "\n",
    "Y VIBEX VIBE\n",
    "\n",
    "Y VIBEY VIBE\n",
    "\n",
    "Y VIBEZ VIBE"
   ]
  },
  {
   "cell_type": "markdown",
   "metadata": {},
   "source": [
    "<h2>Arduino temprature data</h2><a class=\"anchor\" id=\"Arduino-temprature-data\"></a> GRAPH_TEXT"
   ]
  },
  {
   "cell_type": "markdown",
   "metadata": {},
   "source": [
    "The arduino data section serves to show the user how to add additional, non-flight computer related data to the report. In this example, the data is recorded by an arduino."
   ]
  },
  {
   "cell_type": "markdown",
   "metadata": {},
   "source": [
    "GRAPH\n",
    "\n",
    "X TIME ARDUINOMICRO\n",
    "\n",
    "Y TEMP0 ARDUINOMICRO\n",
    "\n",
    "Y TEMP1 ARDUINOMICRO\n",
    "\n",
    "Y TEMP2 ARDUINOMICRO\n",
    "\n",
    "Y TEMP3 ARDUINOMICRO\n",
    "\n",
    "Y TEMP4 ARDUINOMICRO\n",
    "\n",
    "Y TEMP5 ARDUINOMICRO"
   ]
  },
  {
   "cell_type": "markdown",
   "metadata": {},
   "source": [
    "The above graph shows some mock data of 6 additional temperature sensors plotted. These were recorded by an external arduino."
   ]
  },
  {
   "cell_type": "markdown",
   "metadata": {},
   "source": [
    "<h2>Arduino battery data</h2><a class=\"anchor\" id=\"Arduino-battery-data\"></a> GRAPH_TEXT"
   ]
  },
  {
   "cell_type": "markdown",
   "metadata": {},
   "source": [
    "MULTIAXIS_GRAPH\n",
    "\n",
    "LEFT_AXIS\n",
    "\n",
    "Y BATTVOLTAGE ARDUINOMICRO\n",
    "\n",
    "X TIME ARDUINOMICRO\n",
    "\n",
    "RIGHT_AXIS\n",
    "\n",
    "Y BATTCHARGING ARDUINOMICRO\n",
    "\n",
    "X TIME ARDUINOMICRO"
   ]
  },
  {
   "cell_type": "markdown",
   "metadata": {},
   "source": [
    "The above data shows additional mock battery data recorded by an arduino. In this case, battvoltage represents the voltage of the external battery and battcharging is a binary representation of whether or not the battery is currently being charged."
   ]
  },
  {
   "cell_type": "markdown",
   "metadata": {},
   "source": [
    "<h2>Autopilot data</h2><a class=\"anchor\" id=\"Autopilot-data\"></a> GRAPH_TEXT"
   ]
  },
  {
   "cell_type": "markdown",
   "metadata": {},
   "source": [
    "The following section represents data about the autopilot's operation. The data can be understood through the following example:\n",
    "\n",
    "desired_roll - the roll that the autopilot is instructing the aircraft to do.\n",
    "\n",
    "roll - the roll that the aircraft is actually doing.\n",
    "\n",
    "This data is useful for troubleshooting flight computer problems."
   ]
  },
  {
   "cell_type": "markdown",
   "metadata": {},
   "source": [
    "GRAPH\n",
    "\n",
    "Y DESIRED_ROLL ATT\n",
    "\n",
    "Y ROLL ATT\n",
    "\n",
    "X TIME ATT"
   ]
  },
  {
   "cell_type": "markdown",
   "metadata": {},
   "source": [
    "GRAPH\n",
    "\n",
    "Y DESIRED_PITCH ATT\n",
    "\n",
    "Y PITCH ATT\n",
    "\n",
    "X TIME ATT"
   ]
  },
  {
   "cell_type": "markdown",
   "metadata": {},
   "source": [
    "GRAPH\n",
    "\n",
    "Y DESIRED_YAW ATT\n",
    "\n",
    "Y YAW ATT\n",
    "\n",
    "X TIME ATT"
   ]
  },
  {
   "cell_type": "markdown",
   "metadata": {},
   "source": [
    "<h2>Take-off data</h2><a class=\"anchor\" id=\"Take-off-data\"></a> GRAPH_TEXT"
   ]
  },
  {
   "cell_type": "code",
   "execution_count": null,
   "metadata": {},
   "outputs": [],
   "source": [
    "take_off_graph(values_list)"
   ]
  }
 ],
 "metadata": {
  "kernelspec": {
   "display_name": "Python 3",
   "language": "python",
   "name": "python3"
  },
  "language_info": {
   "codemirror_mode": {
    "name": "ipython",
    "version": 3
   },
   "file_extension": ".py",
   "mimetype": "text/x-python",
   "name": "python",
   "nbconvert_exporter": "python",
   "pygments_lexer": "ipython3",
   "version": "3.7.3"
  }
 },
 "nbformat": 4,
 "nbformat_minor": 2
}
