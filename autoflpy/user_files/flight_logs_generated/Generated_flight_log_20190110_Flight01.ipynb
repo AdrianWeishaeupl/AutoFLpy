{
 "cells": [
  {
   "cell_type": "raw",
   "metadata": {},
   "source": [
    "<script>\n",
    "<!-- \n",
    "    source:\n",
    "    http://chris-said.io/2016/02/13/how-to-make-polished-jupyter-presentations-with-optional-code-visibility/\n",
    "  -->\n",
    "  function code_toggle() {\n",
    "    if (code_shown){\n",
    "      $('div.input').hide('500');\n",
    "      $('#toggleButton').val('Show Code')\n",
    "    } else {\n",
    "      $('div.input').show('500');\n",
    "      $('#toggleButton').val('Hide Code')\n",
    "    }\n",
    "    code_shown = !code_shown\n",
    "  }\n",
    "\n",
    "  $( document ).ready(function(){\n",
    "    code_shown=false;\n",
    "    $('div.input').hide()\n",
    "  });\n",
    "</script>\n",
    "<form action=\"javascript:code_toggle()\"><input type=\"submit\" id=\"toggleButton\" value=\"Show Code\"></form>"
   ]
  },
  {
   "cell_type": "markdown",
   "metadata": {},
   "source": [
    "<h1> <div style = \"font-size:28pt;text-align:center\">Automatic Flight Test Report</div></h1>"
   ]
  },
  {
   "cell_type": "code",
   "execution_count": null,
   "metadata": {},
   "outputs": [],
   "source": [
    "import matplotlib.pyplot as plt\n",
    "# Insert your logo into the generated images folder and re-write the directory below with your image name.\n",
    "# This cell might need to be run twice to successfully load the image.\n",
    "image = plt.imread(\"..\\images\\Your_logo_file_name_here.png\")\n",
    "_ = plt.figure(figsize=(20,8))\n",
    "img = plt.imshow(image)\n",
    "_ = plt.axis('off')"
   ]
  },
  {
   "cell_type": "markdown",
   "metadata": {},
   "source": [
    "<i><div style = \"font-size:14pt;text-align:center\">Flight No 1, 10/01/2019 </div></i>\n",
    "\n",
    "<br />\n",
    "\n",
    "<div style = \"font-size:14pt;text-align:center\"> <i> Project description here.\n",
    "  </i>  </div>"
   ]
  },
  {
   "cell_type": "markdown",
   "metadata": {},
   "source": [
    "<i>Below is the Required code, please run this code to allow other code to function</i> "
   ]
  },
  {
   "cell_type": "code",
   "execution_count": null,
   "metadata": {},
   "outputs": [],
   "source": [
    "# GRAPH_DATA_IMPORT\n",
    "import sys\n",
    "import pickle as pk\n",
    "import warnings\n",
    "\n",
    "# Hides warnings\n",
    "warnings.filterwarnings('ignore')\n",
    "\n",
    "# Creates a link to where the code is stored.\n",
    "sys.path.append(\"C:\\\\Users\\\\aw6g15\\\\University of Southampton\\\\Adrian Weishaeupl - Documents\\\\PhD\\\\2019\\\\AutoFLpy\\\\AutoFLpy\\\\autoflpy\")\n",
    "from autoflpy.util.plotting import *\n",
    "from autoflpy.util.metar_processing import *\n",
    "#Path to the compressed data.\n",
    "data_file_path = \"C:\\\\Users\\\\aw6g15\\\\University of Southampton\\\\Adrian Weishaeupl - Documents\\\\PhD\\\\2019\\\\AutoFLpy\\\\AutoFLpy\\\\autoflpy\\\\user_files\\\\excel_file_path\\\\20190110_Flight01.pkl\"\n",
    "# Uncompressing the data.\n",
    "values_list = pk.load(open(data_file_path, \"rb\"))\n",
    "print(\"Data imported\")"
   ]
  },
  {
   "cell_type": "markdown",
   "metadata": {},
   "source": [
    "# Table of Contents <a class=\"anchor\" id=\"Table-of-Contents\"></a>\n",
    "* [Weather information](#Weather-Information) \n",
    "* [METAR information](#METAR-Information) \n",
    "* [Runway information](#Runway-Information) \n",
    "* [Checklist information](#Checklist-Information) \n",
    "* [Graphs](#Graphs) \n",
    "  * [GNSS altitude, signal strength and speed plotted against time](#GNSS-Against-Time) \n",
    "  * [GNSS latitude and longitude](#GNSS-Lat-Long) \n",
    "  * [Flight computer battery voltage and current](#BAT-volt-cur) \n",
    "  * [Control inputs plotted against time](#Control-Inputs) \n",
    "  * [Air data aginst time](#Air) \n",
    "  * [Flight attitude](#Attitude) \n",
    "  * [Flight computer vibration data](#vibration-data) \n",
    "  * [Arduino temprature data](#Arduino-temprature-data) \n",
    "  * [Arduino battery data](#Arduino-battery-data) \n",
    "  * [Autopilot data](#Autopilot-data) \n",
    "  * [Take-off data](#Take-off-data) "
   ]
  },
  {
   "cell_type": "markdown",
   "metadata": {},
   "source": [
    "<h2>Weather Information</h2><a class=\"anchor\" id=\"Weather-Information\"></a>\n",
   "\n",
   "Action time : 15:15 hh:mm\n",  "\n", 
   "Pressure : 103000 Pa\n",  "\n", 
   "Temperature : 10.2 C\n",  "\n", 
   "Wind direction : 20 degrees\n",  "\n", 
   "Wind speed : 2 mps\n",  "\n", 
   "\n"
   ]
  },  {
   "cell_type": "markdown",
   "metadata": {},
   "source": [
    "<h2>METAR Information</h2><a class=\"anchor\" id=\"METAR-Information\"></a>\n",
    "\n",
    "The METARs for EGHE were:\n",
    "\n",
    "type: routine report, cycle 16 (automatic report) (manually corrected report)\n",
    "\n",
    "time: Thu Jan 10 15:50:00 2019\n",
    "\n",
    "wind: NW to NNE at 4 knots\n",
    "\n",
    "visibility: greater than 10000 meters\n",
    "\n",
    "sky: a few clouds at 800 feet\n",
    "\n",
    "     broken clouds at 2000 feet\n",
    "\n",
    "METAR: COR EGHE 101550Z 02004KT 320V030 9999 FEW008 BKN020\n",
     "<br><br><br><br>\n",
    "type: routine report, cycle 15 (automatic report)\n",
    "\n",
    "time: Thu Jan 10 15:20:00 2019\n",
    "\n",
    "temperature: 9.0 C\n",
    "\n",
    "dew point: 5.0 C\n",
    "\n",
    "wind: NNE at 3 knots\n",
    "\n",
    "visibility: greater than 10000 meters\n",
    "\n",
    "pressure: 1032.0 mb\n",
    "\n",
    "sky: broken clouds at 2200 feet\n",
    "\n",
    "METAR: EGHE 101520Z 03003KT 9999 BKN022 09/05 Q1032\n",
     "<br><br><br><br>\n",
    "This METAR data was from:https://www.ogimet.com/display_metars2.php?lang=en&lugar=EGHE&tipo=ALL&ord=REV&nil=SI&fmt=html&ano=2019&mes=01&day=10&hora=15&anof=2019&mesf=01&dayf=10&horaf=15&minf=59&send=send\n"
   ]
  },
  {
   "cell_type": "markdown",
   "metadata": {},
   "source": [
    "<h2>Runway Information</h2><a class=\"anchor\" id=\"Runway-Information\"></a>\n",
   "\n",
   "Runway surface : Grass\n",  "\n", 
   "Surface condition : Dry\n",  "\n", 
   "Take off direction : 000\n",  "\n", 
   "\n"
   ]
  },  {
   "cell_type": "markdown",
   "metadata": {},
   "source": [
    "<h2>Checklist Information</h2><a class=\"anchor\" id=\"Checklist-Information\"></a>\n",
    "\n",
    "The Initial Pre-Flight, Launch and Post-Flight checklists were actioned. \n",
    "\n",
    "The flight Duration was recorded as: 5.0, this data was recorded by Adrian Weishaeupl.\n",
    "\n",
    "The Initial Pre-Flight was actioned by Adrian Weishaeupl starting at 2019-01-10 15:31:44 and ending at 2019-01-10 15:32:58. The notes recorded on this checklist were: <i>THIS IS A TEST.</i> The battery voltages of each battery are: <i>25.2.</i>\n",
    "\n",
    "The Launch was actioned by Adrian Weishaeupl starting at 2019-01-10 15:33:05 and ending at 2019-01-10 15:33:46. The notes recorded on this checklist were: <i>TEST.</i>\n",
    "\n",
    "The Post-Flight was actioned by Adrian Weishaeupl starting at 2019-01-10 15:33:48 and ending at 2019-01-10 15:34:23. The notes recorded on this checklist were: <i>TEST.</i>\n",
    "\n",
    "The checklist version used was v0.1.\n"
   ]
  },
  {
   "cell_type": "markdown",
   "metadata": {},
   "source": [
    "<h1>Graphs</h1><a class=\"anchor\" id=\"Graphs\"></a>\n",
    "\n",
    "Below are the Graphs of the data recorded from the flight. For more information on how to manipulate these graphs and customise them, please visit https://autoflpy.readthedocs.io/en/latest/examples.html.\n",
    "\n",
    ""
   ]
  },
  {
   "cell_type": "code",
   "execution_count": null,
   "metadata": {},
   "outputs": [],
   "source": [
    "marker_list = []"
   ]
  },
  {
   "cell_type": "markdown",
   "metadata": {},
   "source": [
    "<h2>GNSS altitude, signal strength and speed plotted against time</h2><a class=\"anchor\" id=\"GNSS-Against-Time\"></a> "
   ]
  },
  {
   "cell_type": "code",
   "execution_count": null,
   "metadata": {},
   "outputs": [],
   "source": [
   "x_limits=[\"x_min\", \"x_max\"]\n",
   "y_limits=[\"y_min\", \"y_max\"]\n",
   "graph_plotter([[\"y\", \"altitude\", \"gps\"], [\"x\", \"time\", \"gps\"]], values_list, x_limits, y_limits, marker_list)"
   ]
  },
  {
   "cell_type": "markdown",
   "metadata": {},
   "source": [
    "Altitude - from the GPS data set. This is an altitude above ground level and is using the GNSS."
   ]
  },
  {
   "cell_type": "code",
   "execution_count": null,
   "metadata": {},
   "outputs": [],
   "source": [
   "x_limits=[\"x_min\", \"x_max\"]\n",
   "y_limits_left=[\"y_min\", \"y_max\"]\n",
   "y_limits_right=[\"y_min\", \"y_max\"]\n",
   "legend_location=1\n",
   "multiaxis_graph_plotter([[\"y\", \"hdop\", \"gps\"]], [[\"y\", \"number of satellites\", \"gps\"], [\"x\", \"time\", \"gps\"]], values_list, x_limits, y_limits_left, y_limits_right, marker_list, legend_location)"
   ]
  },
  {
   "cell_type": "markdown",
   "metadata": {},
   "source": [
    "HDop - horizontal dilution of precision. HDop is a factor in determining the relative accuracy of a horizontal position. The smaller the HDop number, the better the data accuracy.\n",
    "\n",
    "Number of Satellites - The number of satellites whose signal is being received. The type of satellite network being used depends on you sensor."
   ]
  },
  {
   "cell_type": "code",
   "execution_count": null,
   "metadata": {},
   "outputs": [],
   "source": [
   "x_limits=[\"x_min\", \"x_max\"]\n",
   "y_limits_left=[\"y_min\", \"y_max\"]\n",
   "y_limits_right=[\"y_min\", \"y_max\"]\n",
   "legend_location=1\n",
   "multiaxis_graph_plotter([[\"y\", \"airspeed\", \"arsp\"], [\"x\", \"time\", \"arsp\"]], [[\"y\", \"groundspeed\", \"gps\"], [\"x\", \"time\", \"gps\"]], values_list, x_limits, y_limits_left, y_limits_right, marker_list, legend_location)"
   ]
  },
  {
   "cell_type": "markdown",
   "metadata": {},
   "source": [
    "Airspeed - the type of airspeed (IAS, TAS, CAS, EAS) depends on the sensor you are using.\n",
    "\n",
    "Groundspeed - from the GPS data set. This is the speed travelled along the ground and is derived from GNSS measurements."
   ]
  },
  {
   "cell_type": "markdown",
   "metadata": {},
   "source": [
    "<h2>GNSS latitude and longitude</h2><a class=\"anchor\" id=\"GNSS-Lat-Long\"></a> "
   ]
  },
  {
   "cell_type": "code",
   "execution_count": null,
   "metadata": {},
   "outputs": [],
   "source": [
   "x_limits=[\"x_min\", \"x_max\"]\n",
   "y_limits=[\"y_min\", \"y_max\"]\n",
   "graph_plotter([[\"y\", \"latitude\", \"gps\"], [\"x\", \"longitude\", \"gps\"]], values_list, x_limits, y_limits, marker_list)"
   ]
  },
  {
   "cell_type": "markdown",
   "metadata": {},
   "source": [
    "Position data  - from the GPS data set.\n",
    "\n",
    "This is a completely fictitious, illustrative virtual flight and this example should in no way be seen as a suggestion of the suitability of the location for flight operations. All flights in UK airspace should be conducted in the framework set out by the Civil Aviation Authority."
   ]
  },
  {
   "cell_type": "markdown",
   "metadata": {},
   "source": [
    "<h2>Flight computer battery voltage and current</h2><a class=\"anchor\" id=\"BAT-volt-cur\"></a> "
   ]
  },
  {
   "cell_type": "code",
   "execution_count": null,
   "metadata": {},
   "outputs": [],
   "source": [
   "x_limits=[\"x_min\", \"x_max\"]\n",
   "y_limits_left=[\"y_min\", \"y_max\"]\n",
   "y_limits_right=[\"y_min\", \"y_max\"]\n",
   "legend_location=1\n",
   "multiaxis_graph_plotter([[\"y\", \"current\", \"bat\"], [\"x\", \"time\", \"bat\"]], [[\"y\", \"voltage\", \"bat\"], [\"x\", \"time\", \"bat\"]], values_list, x_limits, y_limits_left, y_limits_right, marker_list, legend_location)"
   ]
  },
  {
   "cell_type": "markdown",
   "metadata": {},
   "source": [
    "Battery voltage - as read by the power sensor.\n",
    "\n",
    "Current - as read by the power sensor."
   ]
  },
  {
   "cell_type": "code",
   "execution_count": null,
   "metadata": {},
   "outputs": [],
   "source": [
   "x_limits=[\"x_min\", \"x_max\"]\n",
   "y_limits_left=[\"y_min\", \"y_max\"]\n",
   "y_limits_right=[\"y_min\", \"y_max\"]\n",
   "legend_location=1\n",
   "multiaxis_graph_plotter([[\"y\", \"current\", \"bat\"], [\"x\", \"time\", \"bat\"]], [[\"y\", \"throttle ch3\", \"rcin\"], [\"x\", \"time\", \"rcin\"]], values_list, x_limits, y_limits_left, y_limits_right, marker_list, legend_location)"
   ]
  },
  {
   "cell_type": "markdown",
   "metadata": {},
   "source": [
    "<h2>Control inputs plotted against time</h2><a class=\"anchor\" id=\"Control-Inputs\"></a> "
   ]
  },
  {
   "cell_type": "markdown",
   "metadata": {},
   "source": [
    "The following variables are represented in micro seconds (us). This is a Pulse Width Modulation (PWM) signal which is a way of representing an analogue signal digitally. It is used in many applications such as servo motors.\n",
    "\n",
    "NOTE: Channels may not be mapped in the same way as done here. To change the channel mapping and names, access the Name_converter_list.txt file and change the following names.\n",
    "\n",
    "Example:\n",
    "\n",
    "    RCIN, C5, flap_CH5, us\n",
    "to\n",
    "\n",
    "    RCIN, C5, throttle_CH5, us"
   ]
  },
  {
   "cell_type": "code",
   "execution_count": null,
   "metadata": {},
   "outputs": [],
   "source": [
   "x_limits=[\"x_min\", \"x_max\"]\n",
   "y_limits=[\"y_min\", \"y_max\"]\n",
   "graph_plotter([[\"x\", \"time\", \"rcin\"], [\"y\", \"flap ch5\", \"rcin\"], [\"y\", \"ch6\", \"rcin\"]], values_list, x_limits, y_limits, marker_list)"
   ]
  },
  {
   "cell_type": "code",
   "execution_count": null,
   "metadata": {},
   "outputs": [],
   "source": [
   "x_limits=[\"x_min\", \"x_max\"]\n",
   "y_limits=[\"y_min\", \"y_max\"]\n",
   "graph_plotter([[\"x\", \"time\", \"rcin\"], [\"y\", \"throttle ch3\", \"rcin\"]], values_list, x_limits, y_limits, marker_list)"
   ]
  },
  {
   "cell_type": "code",
   "execution_count": null,
   "metadata": {},
   "outputs": [],
   "source": [
   "x_limits=[\"x_min\", \"x_max\"]\n",
   "y_limits=[\"y_min\", \"y_max\"]\n",
   "graph_plotter([[\"x\", \"time\", \"rcin\"], [\"y\", \"aileron ch1\", \"rcin\"], [\"y\", \"elevator ch2\", \"rcin\"], [\"y\", \"rudder ch3\", \"rcin\"]], values_list, x_limits, y_limits, marker_list)"
   ]
  },
  {
   "cell_type": "markdown",
   "metadata": {},
   "source": [
    "<h2>Air data against time</h2><a class=\"anchor\" id=\"Air\"></a> "
   ]
  },
  {
   "cell_type": "code",
   "execution_count": null,
   "metadata": {},
   "outputs": [],
   "source": [
   "x_limits=[\"x_min\", \"x_max\"]\n",
   "y_limits_left=[\"y_min\", \"y_max\"]\n",
   "y_limits_right=[\"y_min\", \"y_max\"]\n",
   "legend_location=1\n",
   "multiaxis_graph_plotter([[\"y\", \"airspeed\", \"arsp\"], [\"x\", \"time\", \"arsp\"]], [[\"y\", \"altitude\", \"baro\"], [\"x\", \"time\", \"baro\"]], values_list, x_limits, y_limits_left, y_limits_right, marker_list, legend_location)"
   ]
  },
  {
   "cell_type": "markdown",
   "metadata": {},
   "source": [
    "Altitude - from the barometer data set. This is the altitude derived from the air pressure and is relative to the arming altitude.\n",
    "\n",
    "Airspeed - the type of airspeed (IAS, TAS, CAS, EAS) depends on the sensor you are using."
   ]
  },
  {
   "cell_type": "code",
   "execution_count": null,
   "metadata": {},
   "outputs": [],
   "source": [
   "x_limits=[\"x_min\", \"x_max\"]\n",
   "y_limits=[\"y_min\", \"y_max\"]\n",
   "graph_plotter([[\"y\", \"temp\", \"arsp\"], [\"x\", \"time\", \"arsp\"]], values_list, x_limits, y_limits, marker_list)"
   ]
  },
  {
   "cell_type": "markdown",
   "metadata": {},
   "source": [
    "Temperature - measured by the airspeed sensor."
   ]
  },
  {
   "cell_type": "markdown",
   "metadata": {},
   "source": [
    "<h2>Flight attitude</h2><a class=\"anchor\" id=\"Attitude\"></a> "
   ]
  },
  {
   "cell_type": "code",
   "execution_count": null,
   "metadata": {},
   "outputs": [],
   "source": [
   "x_limits=[\"x_min\", \"x_max\"]\n",
   "y_limits=[\"y_min\", \"y_max\"]\n",
   "graph_plotter([[\"y\", \"pitch\", \"ctun\"], [\"x\", \"time\", \"ctun\"]], values_list, x_limits, y_limits, marker_list)"
   ]
  },
  {
   "cell_type": "code",
   "execution_count": null,
   "metadata": {},
   "outputs": [],
   "source": [
   "x_limits=[\"x_min\", \"x_max\"]\n",
   "y_limits=[\"y_min\", \"y_max\"]\n",
   "graph_plotter([[\"y\", \"roll\", \"ctun\"], [\"x\", \"time\", \"ctun\"]], values_list, x_limits, y_limits, marker_list)"
   ]
  },
  {
   "cell_type": "code",
   "execution_count": null,
   "metadata": {},
   "outputs": [],
   "source": [
   "x_limits=[\"x_min\", \"x_max\"]\n",
   "y_limits=[\"y_min\", \"y_max\"]\n",
   "graph_plotter([[\"y\", \"aoa\", \"aoa\"], [\"x\", \"time\", \"aoa\"]], values_list, x_limits, y_limits, marker_list)"
   ]
  },
  {
   "cell_type": "markdown",
   "metadata": {},
   "source": [
    "AOA - Angle Of Attack. This is the angle between the incoming air and the aircraft's horizontal plane. It is a calculated measurement."
   ]
  },
  {
   "cell_type": "code",
   "execution_count": null,
   "metadata": {},
   "outputs": [],
   "source": [
   "x_limits=[\"x_min\", \"x_max\"]\n",
   "y_limits=[\"y_min\", \"y_max\"]\n",
   "graph_plotter([[\"y\", \"ssa\", \"aoa\"], [\"x\", \"time\", \"aoa\"]], values_list, x_limits, y_limits, marker_list)"
   ]
  },
  {
   "cell_type": "markdown",
   "metadata": {},
   "source": [
    "SSA - Side Slip Angle. The angle between the incoming air and the aircraft's vertical plane. It is a calculated measurement."
   ]
  },
  {
   "cell_type": "markdown",
   "metadata": {},
   "source": [
    "<h2>Flight computer vibration data</h2><a class=\"anchor\" id=\"vibration-data\"></a> "
   ]
  },
  {
   "cell_type": "code",
   "execution_count": null,
   "metadata": {},
   "outputs": [],
   "source": [
   "x_limits=[\"x_min\", \"x_max\"]\n",
   "y_limits=[\"y_min\", \"y_max\"]\n",
   "graph_plotter([[\"x\", \"time\", \"vibe\"], [\"y\", \"vibex\", \"vibe\"], [\"y\", \"vibey\", \"vibe\"], [\"y\", \"vibez\", \"vibe\"]], values_list, x_limits, y_limits, marker_list)"
   ]
  },
  {
   "cell_type": "markdown",
   "metadata": {},
   "source": [
    "<h2>Arduino temprature data</h2><a class=\"anchor\" id=\"Arduino-temprature-data\"></a> "
   ]
  },
  {
   "cell_type": "markdown",
   "metadata": {},
   "source": [
    "The arduino data section serves to show the user how to add additional, non-flight computer related data to the report. In this example, the data is recorded by an arduino."
   ]
  },
  {
   "cell_type": "code",
   "execution_count": null,
   "metadata": {},
   "outputs": [],
   "source": [
   "x_limits=[\"x_min\", \"x_max\"]\n",
   "y_limits=[\"y_min\", \"y_max\"]\n",
   "graph_plotter([[\"x\", \"time\", \"arduinomicro\"], [\"y\", \"temp0\", \"arduinomicro\"], [\"y\", \"temp1\", \"arduinomicro\"], [\"y\", \"temp2\", \"arduinomicro\"], [\"y\", \"temp3\", \"arduinomicro\"], [\"y\", \"temp4\", \"arduinomicro\"], [\"y\", \"temp5\", \"arduinomicro\"]], values_list, x_limits, y_limits, marker_list)"
   ]
  },
  {
   "cell_type": "markdown",
   "metadata": {},
   "source": [
    "The above graph shows some mock data of 6 additional temperature sensors plotted. These were recorded by an external arduino."
   ]
  },
  {
   "cell_type": "markdown",
   "metadata": {},
   "source": [
    "<h2>Arduino battery data</h2><a class=\"anchor\" id=\"Arduino-battery-data\"></a> "
   ]
  },
  {
   "cell_type": "code",
   "execution_count": null,
   "metadata": {},
   "outputs": [],
   "source": [
   "x_limits=[\"x_min\", \"x_max\"]\n",
   "y_limits_left=[\"y_min\", \"y_max\"]\n",
   "y_limits_right=[\"y_min\", \"y_max\"]\n",
   "legend_location=1\n",
   "multiaxis_graph_plotter([[\"y\", \"battvoltage\", \"arduinomicro\"], [\"x\", \"time\", \"arduinomicro\"]], [[\"y\", \"battcharging\", \"arduinomicro\"], [\"x\", \"time\", \"arduinomicro\"]], values_list, x_limits, y_limits_left, y_limits_right, marker_list, legend_location)"
   ]
  },
  {
   "cell_type": "markdown",
   "metadata": {},
   "source": [
    "The above data shows additional mock battery data recorded by an arduino. In this case, battvoltage represents the voltage of the external battery and battcharging is a binary representation of whether or not the battery is currently being charged."
   ]
  },
  {
   "cell_type": "markdown",
   "metadata": {},
   "source": [
    "<h2>Autopilot data</h2><a class=\"anchor\" id=\"Autopilot-data\"></a> "
   ]
  },
  {
   "cell_type": "markdown",
   "metadata": {},
   "source": [
    "The following section represents data about the autopilot's operation. The data can be understood through the following example:\n",
    "\n",
    "desired_roll - the roll that the autopilot is instructing the aircraft to do.\n",
    "\n",
    "roll - the roll that the aircraft is actually doing.\n",
    "\n",
    "This data is useful for troubleshooting flight computer problems."
   ]
  },
  {
   "cell_type": "code",
   "execution_count": null,
   "metadata": {},
   "outputs": [],
   "source": [
   "x_limits=[\"x_min\", \"x_max\"]\n",
   "y_limits=[\"y_min\", \"y_max\"]\n",
   "graph_plotter([[\"y\", \"desired roll\", \"att\"], [\"y\", \"roll\", \"att\"], [\"x\", \"time\", \"att\"]], values_list, x_limits, y_limits, marker_list)"
   ]
  },
  {
   "cell_type": "code",
   "execution_count": null,
   "metadata": {},
   "outputs": [],
   "source": [
   "x_limits=[\"x_min\", \"x_max\"]\n",
   "y_limits=[\"y_min\", \"y_max\"]\n",
   "graph_plotter([[\"y\", \"desired pitch\", \"att\"], [\"y\", \"pitch\", \"att\"], [\"x\", \"time\", \"att\"]], values_list, x_limits, y_limits, marker_list)"
   ]
  },
  {
   "cell_type": "code",
   "execution_count": null,
   "metadata": {},
   "outputs": [],
   "source": [
   "x_limits=[\"x_min\", \"x_max\"]\n",
   "y_limits=[\"y_min\", \"y_max\"]\n",
   "graph_plotter([[\"y\", \"desired yaw\", \"att\"], [\"y\", \"yaw\", \"att\"], [\"x\", \"time\", \"att\"]], values_list, x_limits, y_limits, marker_list)"
   ]
  },
  {
   "cell_type": "markdown",
   "metadata": {},
   "source": [
    "<h2>Take-off data</h2><a class=\"anchor\" id=\"Take-off-data\"></a> "
   ]
  },
  {
   "cell_type": "code",
   "execution_count": null,
   "metadata": {},
   "outputs": [],
   "source": [
    "take_off_graph(values_list)"
   ]
  }
 ],
 "metadata": {
  "kernelspec": {
   "display_name": "Python 3",
   "language": "python",
   "name": "python3"
  },
  "language_info": {
   "codemirror_mode": {
    "name": "ipython",
    "version": 3
   },
   "file_extension": ".py",
   "mimetype": "text/x-python",
   "name": "python",
   "nbconvert_exporter": "python",
   "pygments_lexer": "ipython3",
   "version": "3.7.3"
  }
 },
 "nbformat": 4,
 "nbformat_minor": 2
}
