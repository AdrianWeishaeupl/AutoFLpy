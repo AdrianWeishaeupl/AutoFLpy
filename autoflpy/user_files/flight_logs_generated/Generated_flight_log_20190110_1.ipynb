{
 "cells": [
  {
   "cell_type": "markdown",
   "metadata": {},
   "source": [
    "<h1> <div style = \"font-size:28pt;text-align:center\">Automatic Flight Test Report</div></h1>\n",
    "<i><div style = \"font-size:14pt;text-align:center\">Flight No 1, 10/01/2019 </div></i>\n",
    "\n",
    "<img src=\"..\\images\\Your_logo_file_name_here.png\" width=\"40%\" alt=\"Logo, To view image, place the logo in a folder called images (all lower case).\">\n",
    "</div>\n",
    "\n",
    "<br />\n",
    "\n",
    "<div style = \"font-size:14pt;text-align:center\"> <i> Project description here.\n",
    "  </i>  </div>"
   ]
  },
  {
   "cell_type": "markdown",
   "metadata": {},
   "source": [
    "<i>Below is the Required code, please run this code to allow other code to function</i> "
   ]
  },
  {
   "cell_type": "code",
   "execution_count": null,
   "metadata": {},
   "outputs": [],
   "source": [
    "# GRAPH_DATA_IMPORT\n",
    "import sys\n",
    "import matplotlib.pyplot as plt\n",
    "# Creates a link to where the code is stored.\n",
    "sys.path.append(\"C:\\\\Users\\\\aw6g15\\\\University of Southampton\\\\Adrian Weishaeupl - Documents\\\\PhD\\\\2019\\\\AutoFLpy\\\\AutoFLpy\\\\autoflpy\")\n",
    "from autoflpy.util.flight_log_code import *\n",
    "# file_path of the flight data.\n",
    "flight_data_file_path = \"C:\\\\Users\\\\aw6g15\\\\University of Southampton\\\\Adrian Weishaeupl - Documents\\\\PhD\\\\2019\\\\AutoFLpy\\\\AutoFLpy\\\\autoflpy\\\\user_files\\\\excel_file_path\\\\\"\n",
    "# Excel File name\n",
    "flight_data_file_name = \"20190110_Flight01.xls\"\n",
    "# Arduino File name\n",
    "arduino_flight_data_name = \"test_arduino.CSV\"\n",
    "# Arduino Data file path\n",
    "arduino_data_file_path = \"C:\\\\Users\\\\aw6g15\\\\University of Southampton\\\\Adrian Weishaeupl - Documents\\\\PhD\\\\2019\\\\AutoFLpy\\\\AutoFLpy\\\\autoflpy\\\\user_files\\\\arduino_flight_data\\\\\"\n",
    "# Excell Sheets\n",
    "frame_list = flight_data(flight_data_file_path, flight_data_file_name)\n",
    "# A list containing the date first and then the flight number\n",
    "Date_and_flight_Number = date_and_flight_number(frame_list)\n",
    "# Retrieves arduino flight data\n",
    "arduino_micro_flight_data_frame = arduino_micro_frame(arduino_data_file_path, arduino_flight_data_name)\n",
    "# Appends audino frame to flight data from pixhawk\n",
    "frame_list.append(arduino_micro_flight_data_frame)\n",
    "# Sorts frames by time\n",
    "sorted_frames = flight_data_time_sorter(frame_list)\n",
    "# Creates a list of all the values.\n",
    "values_list = flight_data_and_axis(sorted_frames)"
   ]
  },
  {
   "cell_type": "markdown",
   "metadata": {},
   "source": [
    "<h1>METAR Information</h1><a class=\"anchor\" id=\"METAR-Information\"></a>\n",
    "\n",
    "The METARs for DGTK were:\n",
    "\n",
    "type: routine report, cycle 15 (automatic report)\n",
    "\n",
    "time: Thu Jan 10 15:00:00 2019\n",
    "\n",
    "temperature: 32.0 C\n",
    "\n",
    "dew point: 25.0 C\n",
    "\n",
    "wind: SW at 12 knots\n",
    "\n",
    "visibility: 8000 meters\n",
    "\n",
    "pressure: 1008.0 mb\n",
    "\n",
    "sky: clear\n",
    "\n",
    "METAR: DGTK 101500Z 23012KT 8000 NSC 32/25 Q1008 NOSIG\n",
    "<br><br><br><br>\n",
    "This METAR data was from:https://www.ogimet.com/display_metars2.php?lang=en&lugar=DGTK&tipo=ALL&ord=REV&nil=SI&fmt=html&ano=2019&mes=01&day=10&hora=15&anof=2019&mesf=01&dayf=10&horaf=15&minf=59&send=send"
   ]
  },
  {
   "cell_type": "markdown",
   "metadata": {},
   "source": [
    "# Table of Contents <a class=\"anchor\" id=\"Table-of-Contents\"></a>\n",
    "* [METAR information](#METAR-Information) \n",
    "* [Checklist information](#Checklist-Information) \n",
    "* [Graphs](#Graphs) \n",
    "  * [GPS altitude, signal strength and speed plotted against time](#GPS-Against-Time) \n",
    "  * [GPS latitude and longitude](#GPS-Lat-Long) \n",
    "  * [Flight computer battery voltage and current](#BAT-volt-cur) \n",
    "  * [Control inputs plotted against time](#Control-Inputs) \n",
    "  * [Barometry data aginst time](#Barometry) \n",
    "  * [Flight attitude](#Attitude) \n",
    "  * [Flight computer vibration data](#vibration-data) \n",
    "  * [Arduino temprature data](#Arduino-temprature-data) \n",
    "  * [Arduino battery data](#Arduino-battery-data) \n",
    "  * [Autopilot data](#Autopilot-data) "
   ]
  },
  {
   "cell_type": "code",
   "execution_count": null,
   "metadata": {},
   "outputs": [],
   "source": [
    "# METAR REPLACER\n",
    "\n",
    "METAR_replacer(os.getcwd(), \"Generated_flight_log_20190110_1.ipynb\", \"DGTK\", \"2019\", \"01\", \"10\", \"01\", \"10\", \"15\", \"16\", \"C:\\\\Users\\\\aw6g15\\\\University of Southampton\\\\Adrian Weishaeupl - Documents\\\\PhD\\\\2019\\\\AutoFLpy\\\\AutoFLpy\\\\autoflpy\\\\user_files\\\\METAR_storage\\\\\")"
   ]
  },
  {
   "cell_type": "markdown",
   "metadata": {},
   "source": [
    "<h1>Checklist Information</h1><a class=\"anchor\" id=\"Checklist-Information\"></a>\n",
    "\n",
    "The Initial Pre-Flight, Launch and Post-Flight checklists were implemented. \n",
    "\n",
    "The flight Duration was recorded as / can be found at: 5.0, this data was recorded by Adrian Weishaeupl.\n",
    "\n",
    "The Initial Pre-Flight was implemented by Adrian Weishaeupl starting at 2019-01-10 15:31:44 and ending at 2019-01-10 15:32:58. The notes recorded on this checklist were: <i>THIS IS A TEST.</i> The Battery voltages of each battery are/ can be found at: <i>25.2.</i>\n",
    "\n",
    "The Launch was implemented by Adrian Weishaeupl starting at 2019-01-10 15:33:05 and ending at 2019-01-10 15:33:46. The notes recorded on this checklist were: <i>TEST.</i>\n",
    "\n",
    "The Post-Flight was implemented by Adrian Weishaeupl starting at 2019-01-10 15:33:48 and ending at 2019-01-10 15:34:23. The notes recorded on this checklist were: <i>TEST.</i>\n",
    "\n",
    "The checklist version used was v0.1.\n"
   ]
  },
  {
   "cell_type": "markdown",
   "metadata": {},
   "source": [
    "<h1>Graphs</h1><a class=\"anchor\" id=\"Graphs\"></a>\n",
    "\n",
    "Below are the Graphs of the data recorded from the flight.\n",
    "\n"
   ]
  },
  {
   "cell_type": "markdown",
   "metadata": {},
   "source": [
    "<h2>GPS altitude, signal strength and speed plotted against time</h2><a class=\"anchor\" id=\"GPS-Against-Time\"></a> "
   ]
  },
  {
   "cell_type": "code",
   "execution_count": null,
   "metadata": {},
   "outputs": [],
   "source": [
    "x_limits=[\"x_min\", \"x_max\"]\n",
    "y_limits=[\"y_min\", \"y_max\"]\n",
    "graph_function([[\"y\", \"altitude\", \"gps\"], [\"x\", \"time\", \"gps\"]], values_list, x_limits, y_limits)"
   ]
  },
  {
   "cell_type": "code",
   "execution_count": null,
   "metadata": {},
   "outputs": [],
   "source": [
    "x_limits=[\"x_min\", \"x_max\"]\n",
    "y_limits_left=[\"y_min\", \"y_max\"]\n",
    "y_limits_right=[\"y_min\", \"y_max\"]\n",
    "legend_location=1\n",
    "multiaxis_graph_function([[\"y\", \"hdop\", \"gps\"]], [[\"y\", \"number of satellites\", \"gps\"], [\"x\", \"time\", \"gps\"]], values_list, x_limits, y_limits_left, y_limits_right, legend_location)"
   ]
  },
  {
   "cell_type": "code",
   "execution_count": null,
   "metadata": {},
   "outputs": [],
   "source": [
    "x_limits=[\"x_min\", \"x_max\"]\n",
    "y_limits_left=[\"y_min\", \"y_max\"]\n",
    "y_limits_right=[\"y_min\", \"y_max\"]\n",
    "legend_location=1\n",
    "multiaxis_graph_function([[\"y\", \"airspeed\", \"arsp\"], [\"x\", \"time\", \"arsp\"]], [[\"y\", \"groundspeed\", \"gps\"], [\"x\", \"time\", \"gps\"]], values_list, x_limits, y_limits_left, y_limits_right, legend_location)"
   ]
  },
  {
   "cell_type": "markdown",
   "metadata": {},
   "source": [
    "<h2>GPS latitude and longitude</h2><a class=\"anchor\" id=\"GPS-Lat-Long\"></a> "
   ]
  },
  {
   "cell_type": "code",
   "execution_count": null,
   "metadata": {},
   "outputs": [],
   "source": [
    "x_limits=[\"x_min\", \"x_max\"]\n",
    "y_limits=[\"y_min\", \"y_max\"]\n",
    "graph_function([[\"y\", \"latitude\", \"gps\"], [\"x\", \"longitude\", \"gps\"]], values_list, x_limits, y_limits)"
   ]
  },
  {
   "cell_type": "markdown",
   "metadata": {},
   "source": [
    "<h2>Flight computer battery voltage and current</h2><a class=\"anchor\" id=\"BAT-volt-cur\"></a> "
   ]
  },
  {
   "cell_type": "code",
   "execution_count": null,
   "metadata": {},
   "outputs": [],
   "source": [
    "x_limits=[\"x_min\", \"x_max\"]\n",
    "y_limits_left=[\"y_min\", \"y_max\"]\n",
    "y_limits_right=[\"y_min\", \"y_max\"]\n",
    "legend_location=1\n",
    "multiaxis_graph_function([[\"y\", \"current\", \"bat\"], [\"x\", \"time\", \"bat\"]], [[\"y\", \"voltage\", \"bat\"], [\"x\", \"time\", \"bat\"]], values_list, x_limits, y_limits_left, y_limits_right, legend_location)"
   ]
  },
  {
   "cell_type": "code",
   "execution_count": null,
   "metadata": {},
   "outputs": [],
   "source": [
    "x_limits=[\"x_min\", \"x_max\"]\n",
    "y_limits_left=[\"y_min\", \"y_max\"]\n",
    "y_limits_right=[\"y_min\", \"y_max\"]\n",
    "legend_location=1\n",
    "multiaxis_graph_function([[\"y\", \"current\", \"bat\"], [\"x\", \"time\", \"bat\"]], [[\"y\", \"throttle\", \"rcin\"], [\"x\", \"time\", \"rcin\"]], values_list, x_limits, y_limits_left, y_limits_right, legend_location)"
   ]
  },
  {
   "cell_type": "markdown",
   "metadata": {},
   "source": [
    "<h2>Control inputs plotted against time</h2><a class=\"anchor\" id=\"Control-Inputs\"></a> "
   ]
  },
  {
   "cell_type": "code",
   "execution_count": null,
   "metadata": {},
   "outputs": [],
   "source": [
    "x_limits=[\"x_min\", \"x_max\"]\n",
    "y_limits=[\"y_min\", \"y_max\"]\n",
    "graph_function([[\"x\", \"time\", \"rcin\"], [\"y\", \"flap ch5\", \"rcin\"], [\"y\", \"subdeploy ch6\", \"rcin\"]], values_list, x_limits, y_limits)"
   ]
  },
  {
   "cell_type": "code",
   "execution_count": null,
   "metadata": {},
   "outputs": [],
   "source": [
    "x_limits=[\"x_min\", \"x_max\"]\n",
    "y_limits=[\"y_min\", \"y_max\"]\n",
    "graph_function([[\"x\", \"time\", \"rcin\"], [\"y\", \"throttle ch3\", \"rcin\"]], values_list, x_limits, y_limits)"
   ]
  },
  {
   "cell_type": "code",
   "execution_count": null,
   "metadata": {},
   "outputs": [],
   "source": [
    "x_limits=[\"x_min\", \"x_max\"]\n",
    "y_limits=[\"y_min\", \"y_max\"]\n",
    "graph_function([[\"x\", \"time\", \"rcin\"], [\"y\", \"aileron ch1\", \"rcin\"], [\"y\", \"elevator ch2\", \"rcin\"], [\"y\", \"rudder ch3\", \"rcin\"]], values_list, x_limits, y_limits)"
   ]
  },
  {
   "cell_type": "markdown",
   "metadata": {},
   "source": [
    "<h2>Barometry data aginst time</h2><a class=\"anchor\" id=\"Barometry\"></a> "
   ]
  },
  {
   "cell_type": "code",
   "execution_count": null,
   "metadata": {},
   "outputs": [],
   "source": [
    "x_limits=[\"x_min\", \"x_max\"]\n",
    "y_limits_left=[\"y_min\", \"y_max\"]\n",
    "y_limits_right=[\"y_min\", \"y_max\"]\n",
    "legend_location=1\n",
    "multiaxis_graph_function([[\"y\", \"airspeed\", \"arsp\"], [\"x\", \"time\", \"arsp\"]], [[\"y\", \"altitude\", \"baro\"], [\"x\", \"time\", \"baro\"]], values_list, x_limits, y_limits_left, y_limits_right, legend_location)"
   ]
  },
  {
   "cell_type": "code",
   "execution_count": null,
   "metadata": {},
   "outputs": [],
   "source": [
    "x_limits=[\"x_min\", \"x_max\"]\n",
    "y_limits=[\"y_min\", \"y_max\"]\n",
    "graph_function([[\"y\", \"temp\", \"arsp\"], [\"x\", \"time\", \"arsp\"]], values_list, x_limits, y_limits)"
   ]
  },
  {
   "cell_type": "markdown",
   "metadata": {},
   "source": [
    "<h2>Flight attitude</h2><a class=\"anchor\" id=\"Attitude\"></a> "
   ]
  },
  {
   "cell_type": "code",
   "execution_count": null,
   "metadata": {},
   "outputs": [],
   "source": [
    "x_limits=[\"x_min\", \"x_max\"]\n",
    "y_limits=[\"y_min\", \"y_max\"]\n",
    "graph_function([[\"y\", \"pitch\", \"ctun\"], [\"x\", \"time\", \"ctun\"]], values_list, x_limits, y_limits)"
   ]
  },
  {
   "cell_type": "code",
   "execution_count": null,
   "metadata": {},
   "outputs": [],
   "source": [
    "x_limits=[\"x_min\", \"x_max\"]\n",
    "y_limits=[\"y_min\", \"y_max\"]\n",
    "graph_function([[\"y\", \"roll\", \"ctun\"], [\"x\", \"time\", \"ctun\"]], values_list, x_limits, y_limits)"
   ]
  },
  {
   "cell_type": "code",
   "execution_count": null,
   "metadata": {},
   "outputs": [],
   "source": [
    "x_limits=[\"x_min\", \"x_max\"]\n",
    "y_limits=[\"y_min\", \"y_max\"]\n",
    "graph_function([[\"y\", \"aoa\", \"aoa\"], [\"x\", \"time\", \"aoa\"]], values_list, x_limits, y_limits)"
   ]
  },
  {
   "cell_type": "code",
   "execution_count": null,
   "metadata": {},
   "outputs": [],
   "source": [
    "x_limits=[\"x_min\", \"x_max\"]\n",
    "y_limits=[\"y_min\", \"y_max\"]\n",
    "graph_function([[\"y\", \"ssa\", \"aoa\"], [\"x\", \"time\", \"aoa\"]], values_list, x_limits, y_limits)"
   ]
  },
  {
   "cell_type": "markdown",
   "metadata": {},
   "source": [
    "<h2>Flight computer vibration data</h2><a class=\"anchor\" id=\"vibration-data\"></a> "
   ]
  },
  {
   "cell_type": "code",
   "execution_count": null,
   "metadata": {},
   "outputs": [],
   "source": [
    "x_limits=[\"x_min\", \"x_max\"]\n",
    "y_limits=[\"y_min\", \"y_max\"]\n",
    "graph_function([[\"x\", \"time\", \"vibe\"], [\"y\", \"vibex\", \"vibe\"], [\"y\", \"vibey\", \"vibe\"], [\"y\", \"vibez\", \"vibe\"]], values_list, x_limits, y_limits)"
   ]
  },
  {
   "cell_type": "markdown",
   "metadata": {},
   "source": [
    "<h2>Arduino temprature data</h2><a class=\"anchor\" id=\"Arduino-temprature-data\"></a> "
   ]
  },
  {
   "cell_type": "code",
   "execution_count": null,
   "metadata": {},
   "outputs": [],
   "source": [
    "x_limits=[\"x_min\", \"x_max\"]\n",
    "y_limits=[\"y_min\", \"y_max\"]\n",
    "graph_function([[\"x\", \"time\", \"arduinomicro\"], [\"y\", \"temp0\", \"arduinomicro\"], [\"y\", \"temp1\", \"arduinomicro\"], [\"y\", \"temp2\", \"arduinomicro\"], [\"y\", \"temp3\", \"arduinomicro\"], [\"y\", \"temp4\", \"arduinomicro\"], [\"y\", \"temp5\", \"arduinomicro\"]], values_list, x_limits, y_limits)"
   ]
  },
  {
   "cell_type": "markdown",
   "metadata": {},
   "source": [
    "<h2>Arduino battery data</h2><a class=\"anchor\" id=\"Arduino-battery-data\"></a> "
   ]
  },
  {
   "cell_type": "code",
   "execution_count": null,
   "metadata": {},
   "outputs": [],
   "source": [
    "x_limits=[\"x_min\", \"x_max\"]\n",
    "y_limits_left=[\"y_min\", \"y_max\"]\n",
    "y_limits_right=[\"y_min\", \"y_max\"]\n",
    "legend_location=1\n",
    "multiaxis_graph_function([[\"y\", \"battvoltage\", \"arduinomicro\"], [\"x\", \"time\", \"arduinomicro\"]], [[\"y\", \"battcharging\", \"arduinomicro\"], [\"x\", \"time\", \"arduinomicro\"]], values_list, x_limits, y_limits_left, y_limits_right, legend_location)"
   ]
  },
  {
   "cell_type": "markdown",
   "metadata": {},
   "source": [
    "<h2>Autopilot data</h2><a class=\"anchor\" id=\"Autopilot-data\"></a> "
   ]
  },
  {
   "cell_type": "code",
   "execution_count": null,
   "metadata": {},
   "outputs": [],
   "source": [
    "x_limits=[\"x_min\", \"x_max\"]\n",
    "y_limits_left=[\"y_min\", \"y_max\"]\n",
    "y_limits_right=[\"y_min\", \"y_max\"]\n",
    "legend_location=1\n",
    "multiaxis_graph_function([[\"y\", \"desired roll\", \"att\"]], [[\"y\", \"roll\", \"att\"], [\"x\", \"time\", \"att\"]], values_list, x_limits, y_limits_left, y_limits_right, legend_location)"
   ]
  },
  {
   "cell_type": "code",
   "execution_count": null,
   "metadata": {},
   "outputs": [],
   "source": [
    "x_limits=[\"x_min\", \"x_max\"]\n",
    "y_limits_left=[\"y_min\", \"y_max\"]\n",
    "y_limits_right=[\"y_min\", \"y_max\"]\n",
    "legend_location=1\n",
    "multiaxis_graph_function([[\"y\", \"desired pitch\", \"att\"]], [[\"y\", \"pitch\", \"att\"], [\"x\", \"time\", \"att\"]], values_list, x_limits, y_limits_left, y_limits_right, legend_location)"
   ]
  },
  {
   "cell_type": "code",
   "execution_count": null,
   "metadata": {},
   "outputs": [],
   "source": [
    "x_limits=[\"x_min\", \"x_max\"]\n",
    "y_limits_left=[\"y_min\", \"y_max\"]\n",
    "y_limits_right=[\"y_min\", \"y_max\"]\n",
    "legend_location=1\n",
    "multiaxis_graph_function([[\"y\", \"desired yaw\", \"att\"]], [[\"y\", \"yaw\", \"att\"], [\"x\", \"time\", \"att\"]], values_list, x_limits, y_limits_left, y_limits_right, legend_location)"
   ]
  },
  {
   "cell_type": "code",
   "execution_count": null,
   "metadata": {},
   "outputs": [],
   "source": []
  }
 ],
 "metadata": {
  "kernelspec": {
   "display_name": "Python 3",
   "language": "python",
   "name": "python3"
  },
  "language_info": {
   "codemirror_mode": {
    "name": "ipython",
    "version": 3
   },
   "file_extension": ".py",
   "mimetype": "text/x-python",
   "name": "python",
   "nbconvert_exporter": "python",
   "pygments_lexer": "ipython3",
   "version": "3.7.3"
  }
 },
 "nbformat": 4,
 "nbformat_minor": 2
}
